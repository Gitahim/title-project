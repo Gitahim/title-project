{
 "cells": [
  {
   "cell_type": "markdown",
   "id": "dbd8821b-d942-445a-b82b-591f8f4d97cb",
   "metadata": {},
   "source": [
    "### final project"
   ]
  },
  {
   "cell_type": "code",
   "execution_count": 1,
   "id": "ab7d13bb-0d2b-4e0c-8cf6-b30a2f7f4410",
   "metadata": {},
   "outputs": [],
   "source": [
    "#IMPORT LIBRARIES\n",
    "import pandas as pd\n",
    "import seaborn as sns"
   ]
  }
 ],
 "metadata": {
  "kernelspec": {
   "display_name": "Python 3 (ipykernel)",
   "language": "python",
   "name": "python3"
  },
  "language_info": {
   "codemirror_mode": {
    "name": "ipython",
    "version": 3
   },
   "file_extension": ".py",
   "mimetype": "text/x-python",
   "name": "python",
   "nbconvert_exporter": "python",
   "pygments_lexer": "ipython3",
   "version": "3.9.18"
  }
 },
 "nbformat": 4,
 "nbformat_minor": 5
}
