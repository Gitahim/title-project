{
 "cells": [
  {
   "cell_type": "code",
   "execution_count": null,
   "id": "e750d543-4c8e-4f91-8096-7a98e5aad309",
   "metadata": {},
   "outputs": [],
   "source": []
  }
 ],
 "metadata": {
  "kernelspec": {
   "display_name": "",
   "name": ""
  },
  "language_info": {
   "name": ""
  }
 },
 "nbformat": 4,
 "nbformat_minor": 5
}
